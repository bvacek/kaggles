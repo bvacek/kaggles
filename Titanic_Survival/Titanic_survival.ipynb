{
  "cells": [
    {
      "metadata": {
        "_uuid": "f79a74e7559a34e81cae2e19b2345a0fe8cc0b41"
      },
      "cell_type": "markdown",
      "source": "**Credit: [Here](https://www.kaggle.com/nadintamer/titanic-survival-predictions-beginner)**"
    },
    {
      "metadata": {
        "_uuid": "8f2839f25d086af736a60e9eeb907d3b93b6e0e5",
        "_cell_guid": "b1076dfc-b9ad-4769-8c92-a6c4dae69d19",
        "trusted": true
      },
      "cell_type": "code",
      "source": "# This Python 3 environment comes with many helpful analytics libraries installed\n# It is defined by the kaggle/python docker image: https://github.com/kaggle/docker-python\n# For example, here's several helpful packages to load in \n\nimport numpy as np # linear algebra\nimport pandas as pd # data processing, CSV file I/O (e.g. pd.read_csv)\nimport matplotlib.pyplot as plt\nimport seaborn as sns\n%matplotlib inline\n\n# Input data files are available in the \"../input/\" directory.\n# For example, running this (by clicking run or pressing Shift+Enter) will list the files in the input directory\n\nimport os\nprint(os.listdir(\"../input\"))\n\n# Any results you write to the current directory are saved as output.\nimport warnings\nwarnings.filterwarnings('ignore')",
      "execution_count": null,
      "outputs": []
    },
    {
      "metadata": {
        "_cell_guid": "79c7e3d0-c299-4dcb-8224-4455121ee9b0",
        "_uuid": "d629ff2d2480ee46fbb7e2d37f6b5fab8052498a",
        "trusted": true,
        "_kg_hide-input": false,
        "_kg_hide-output": false
      },
      "cell_type": "code",
      "source": "train_pd = pd.read_csv('../input/train.csv')\ngender_sub = pd.read_csv('../input/gender_submission.csv')\ntest_pd = pd.read_csv('../input/test.csv')",
      "execution_count": null,
      "outputs": []
    },
    {
      "metadata": {
        "trusted": true,
        "_uuid": "ce2ea62341dc37f9f8e4694ac9b5846e01faddfe",
        "_kg_hide-output": false
      },
      "cell_type": "code",
      "source": "train_pd.describe(include='all')",
      "execution_count": null,
      "outputs": []
    },
    {
      "metadata": {
        "trusted": true,
        "_uuid": "eaf4f61e85cc03c91909e4412e7d8b34348e44ac"
      },
      "cell_type": "code",
      "source": "sns.barplot(x=\"Sex\", y=\"Survived\", data=train_pd)\n\nprint(\"Percentage of females who survived:\", train_pd['Survived'][train_pd['Sex'] == 'female'].value_counts(normalize=True)[1]*100)\nprint(\"Percentage of males who survived:\", train_pd['Survived'][train_pd['Sex'] == 'male'].value_counts(normalize=True)[1]*100)",
      "execution_count": null,
      "outputs": []
    },
    {
      "metadata": {
        "trusted": true,
        "_uuid": "a609b46cc0700c47cc833e72ad32bddfdd4ae9bc"
      },
      "cell_type": "code",
      "source": "sns.barplot(x='Pclass',y='Survived',data=train_pd)\nprint('Survival rate of 1st class', train_pd['Survived'][train_pd['Pclass'] == 1].value_counts(normalize=True)[1]*100)\nprint('Survival rate of 2nd class', train_pd['Survived'][train_pd['Pclass'] == 2].value_counts(normalize=True)[1]*100)\nprint('Survival rate of 3rd class', train_pd['Survived'][train_pd['Pclass'] == 3].value_counts(normalize=True)[1]*100)",
      "execution_count": null,
      "outputs": []
    },
    {
      "metadata": {
        "trusted": true,
        "_uuid": "1a6120736741d709586af2f813340375baccfbf6"
      },
      "cell_type": "code",
      "source": "sns.barplot(x='SibSp', y='Survived',data=train_pd)\nprint('Percent of SibSp = 0 who survived:', train_pd['Survived'][train_pd['SibSp'] == 0].value_counts(normalize=True)[1]*100)\nprint('Percent of SibSp = 1 who survived:', train_pd['Survived'][train_pd['SibSp'] == 1].value_counts(normalize=True)[1]*100)\nprint('Percent of SibSp = 2 who survived:', train_pd['Survived'][train_pd['SibSp'] == 2].value_counts(normalize=True)[1]*100)\nprint('Percent of SibSp = 3 who survived:', train_pd['Survived'][train_pd['SibSp'] == 3].value_counts(normalize=True)[1]*100)\nprint('Percent of SibSp = 4 who survived:', train_pd['Survived'][train_pd['SibSp'] == 4].value_counts(normalize=True)[1]*100)",
      "execution_count": null,
      "outputs": []
    },
    {
      "metadata": {
        "trusted": true,
        "_uuid": "bd135f33b13591e7e0c161814f759cc6842dcd70"
      },
      "cell_type": "code",
      "source": "sns.barplot(x='Parch',y='Survived',data=train_pd)\nfor i in range(0,7):\n    try:\n        print('Percentage of Parch =', i, 'who survived:', train_pd['Survived'][train_pd['Parch'] == i].value_counts(normalize=True)[1]*100)\n    except:\n        pass",
      "execution_count": null,
      "outputs": []
    },
    {
      "metadata": {
        "trusted": true,
        "_uuid": "04dc3a35815e570e931d1500e3a66e29e8be6f68"
      },
      "cell_type": "code",
      "source": "train_pd['Age'] = train_pd['Age'].fillna(-0.5)\ntest_pd['Age'] = test_pd['Age'].fillna(-0.5)\nbins = [-1, 0, 5, 12, 18, 24, 35, 60, np.inf]\nlabels = ['Unknown', '0-5', '6-12', '13-18', '19-24','25-35','35-60', '60+']\ntrain_pd['Age_Group'] = pd.cut(train_pd['Age'], bins, labels=labels)\ntest_pd['Age_Group'] = pd.cut(train_pd['Age'], bins, labels=labels)\nsns.barplot(x='Age_Group',y='Survived',data=train_pd)\nfor i in labels:\n    print('Percent of Age', i, 'who survived:', train_pd['Survived'][train_pd['Age_Group'] == i].value_counts(normalize=True)[1]*100)",
      "execution_count": null,
      "outputs": []
    },
    {
      "metadata": {
        "trusted": true,
        "_uuid": "453c1cf1f64055513ea012124c10feb6bc74da5e"
      },
      "cell_type": "code",
      "source": "train_pd['CabinBool'] = train_pd['Cabin'].notnull().astype('int')\ntest_pd['CabinBool'] = test_pd['Cabin'].notnull().astype('int')\nsns.barplot(x='CabinBool',y='Survived',data=train_pd)\nprint(\"Percentage of cabinbool = 1 who survived:\", train_pd['Survived'][train_pd['CabinBool'] == 1].value_counts(normalize=True)[1]*100)\nprint(\"Percentage of cabinbool = 0 who survived:\", train_pd['Survived'][train_pd['CabinBool'] == 0].value_counts(normalize=True)[1]*100)",
      "execution_count": null,
      "outputs": []
    },
    {
      "metadata": {
        "trusted": true,
        "_uuid": "3e5dd14bb681dda41e7dea20a77dc108ae6188bc"
      },
      "cell_type": "code",
      "source": "train_pd = train_pd.drop(['Cabin'], axis = 1)\ntest_pd = test_pd.drop(['Cabin'], axis = 1)\ntrain_pd = train_pd.drop(['Ticket'], axis = 1)\ntest_pd = test_pd.drop(['Ticket'], axis = 1)",
      "execution_count": null,
      "outputs": []
    },
    {
      "metadata": {
        "trusted": true,
        "_uuid": "551aae34d897661e2cd048053d80a8cb767d40a6"
      },
      "cell_type": "code",
      "source": "train_pd['Embarked']= train_pd['Embarked'].fillna('S')\ntest_pd['Embarked'] = test_pd['Embarked'].fillna('S')",
      "execution_count": null,
      "outputs": []
    },
    {
      "metadata": {
        "trusted": true,
        "_uuid": "8c8b2f5b85db654871d39792d2411652481010e3"
      },
      "cell_type": "code",
      "source": "combine = [train_pd,test_pd]\nfor i in combine:\n    i['Title'] = i['Name'].str.extract(' ([A-Za-z]+)\\.',expand=False)\n    i['Title'] = i['Title'].replace('Mlle', 'Miss')\n    i['Title'] = i['Title'].replace('Ms', 'Miss')\n    i['Title'] = i['Title'].replace('Mme', 'Mrs')",
      "execution_count": null,
      "outputs": []
    },
    {
      "metadata": {
        "trusted": true,
        "_uuid": "7ce3e7528b47bb707d1aca1ad5216f3d571f4f11"
      },
      "cell_type": "code",
      "source": "titles = train_pd[train_pd['Age_Group'] == 'Unknown']['Title'].unique()\ntitle_mapping = {}\nfor i in titles:\n    title_mapping[i] = train_pd[(train_pd['Title'] == i) & (train_pd['Age_Group'] != 'Unknown')]['Age_Group'].mode()[0]\ntitle_mapping",
      "execution_count": null,
      "outputs": []
    },
    {
      "metadata": {
        "trusted": true,
        "_uuid": "6e4b4fa6fdc19d10f4b9664d92933bfc1fe5271d"
      },
      "cell_type": "code",
      "source": "for x in range(len(train_pd[\"Age_Group\"])):\n    if train_pd[\"Age_Group\"][x] == \"Unknown\":\n        train_pd[\"Age_Group\"][x] = title_mapping[train_pd[\"Title\"][x]]\nfor x in range(len(test_pd[\"Age_Group\"])):\n    if test_pd[\"Age_Group\"][x] == \"Unknown\":\n        test_pd[\"Age_Group\"][x] = title_mapping[test_pd[\"Title\"][x]]\ntest_pd['Age_Group'].value_counts()",
      "execution_count": null,
      "outputs": []
    },
    {
      "metadata": {
        "trusted": true,
        "_uuid": "9f2c2c5dd1e9e4b9bb350c75114576a02407d812"
      },
      "cell_type": "code",
      "source": "train_pd=train_pd.drop('Name',axis=1)\ntrain_pd=train_pd.drop('Title',axis=1)\ntrain_pd['Sex']=train_pd['Sex'].replace('male',1)\ntrain_pd['Sex']=train_pd['Sex'].replace('female',2)\nfor j in range(0,len(train_pd['Age_Group'].unique())):\n    train_pd['Age_Group']= train_pd['Age_Group'].replace(train_pd['Age_Group'].unique()[j],j+1)\ntrain_pd=train_pd.drop('Age',axis=1)\nfor j in range(0,len(train_pd['Embarked'].unique())):\n    train_pd['Embarked']= train_pd['Embarked'].replace(train_pd['Embarked'].unique()[j],j+1)",
      "execution_count": null,
      "outputs": []
    },
    {
      "metadata": {
        "trusted": true,
        "_uuid": "f7bf0083bac469b7b00490bc3d1a4ab14bc0b18a"
      },
      "cell_type": "code",
      "source": "test_pd=test_pd.drop('Name',axis=1)\ntest_pd=test_pd.drop('Title',axis=1)\ntest_pd['Sex']=test_pd['Sex'].replace('male',1)\ntest_pd['Sex']=test_pd['Sex'].replace('female',2)\nfor j in range(0,len(test_pd['Age_Group'].unique())):\n    test_pd['Age_Group']= test_pd['Age_Group'].replace(test_pd['Age_Group'].unique()[j],j+1)\ntest_pd=test_pd.drop('Age',axis=1)\nfor j in range(0,len(test_pd['Embarked'].unique())):\n    test_pd['Embarked']= test_pd['Embarked'].replace(test_pd['Embarked'].unique()[j],j+1)",
      "execution_count": null,
      "outputs": []
    },
    {
      "metadata": {
        "trusted": true,
        "_uuid": "ecd153e21dd422d630bb6f80e8c3d298328a40e9",
        "scrolled": true
      },
      "cell_type": "code",
      "source": "test_pd[test_pd['Fare'].isnull()]['Pclass'] == 3\navgFare = train_pd[train_pd['Pclass'] == 3]['Fare'].mean()\ntest_pd['Fare'] = test_pd['Fare'].fillna(avgFare)\ntest_pd.describe()",
      "execution_count": null,
      "outputs": []
    },
    {
      "metadata": {
        "trusted": true,
        "_uuid": "ee4580cdcac1c33844b956cbe9ffc81221463a5a"
      },
      "cell_type": "code",
      "source": "from sklearn.model_selection import train_test_split\npredictors = train_pd.drop(['Survived', 'PassengerId'], axis = 1)\ntarget = train_pd['Survived']\nxtrain, xtest, ytrain, ytest = train_test_split(predictors, target, test_size = .22, random_state = 42)",
      "execution_count": null,
      "outputs": []
    },
    {
      "metadata": {
        "trusted": true,
        "_uuid": "6ce66005e0b7a24e92083a4fdbe942180562baa0"
      },
      "cell_type": "code",
      "source": "from sklearn.metrics import accuracy_score\nfrom sklearn.naive_bayes import GaussianNB\n\ngaussian = GaussianNB()\ngaussian.fit(xtrain, ytrain)\nypred = gaussian.predict(xtest)\ngaussian_acc = accuracy_score(ypred, ytest)\ngaussian_acc",
      "execution_count": null,
      "outputs": []
    },
    {
      "metadata": {
        "trusted": true,
        "_uuid": "ffb8337a793593e17e1aefd9a7d09a48a4756173"
      },
      "cell_type": "code",
      "source": "from sklearn.linear_model import LogisticRegression\nlogrec = LogisticRegression()\nlogrec.fit(xtrain, ytrain)\nypred = logrec.predict(xtest)\nlogrec_acc = accuracy_score(ytest,ypred)\nlogrec_acc",
      "execution_count": null,
      "outputs": []
    },
    {
      "metadata": {
        "trusted": true,
        "_uuid": "4df83f205c9271370a2e5ccf350535824cdb96a4"
      },
      "cell_type": "code",
      "source": "from sklearn.svm import SVC\nsvc = SVC()\nsvc.fit(xtrain,ytrain)\nypred = svc.predict(xtest)\nsvc_acc = accuracy_score(ytest, ypred)\nsvc_acc",
      "execution_count": null,
      "outputs": []
    },
    {
      "metadata": {
        "trusted": true,
        "_uuid": "2457a30d8261ef7ef2c69f816c705532a18b11f5"
      },
      "cell_type": "code",
      "source": "from sklearn.linear_model import Perceptron\nperceptron = Perceptron()\nperceptron.fit(xtrain,ytrain)\nypred = perceptron.predict(xtest)\nperceptron_acc = accuracy_score(ytest,ypred)\nperceptron_acc",
      "execution_count": null,
      "outputs": []
    },
    {
      "metadata": {
        "trusted": true,
        "_uuid": "0692139513e9b4d90e811f11059f3e8e6f360c12"
      },
      "cell_type": "code",
      "source": "from sklearn.tree import DecisionTreeClassifier\ndtc = DecisionTreeClassifier()\ndtc.fit(xtrain,ytrain)\nypred = dtc.predict(xtest)\ndtc_acc = accuracy_score(ytest,ypred)\ndtc_acc",
      "execution_count": null,
      "outputs": []
    },
    {
      "metadata": {
        "trusted": true,
        "_uuid": "3a0d35a9de1f4407ef5fb055aa8167b4d283edbc"
      },
      "cell_type": "code",
      "source": "from sklearn.ensemble import RandomForestClassifier\nrfc = RandomForestClassifier()\nrfc.fit(xtrain,ytrain)\nypred = rfc.predict(xtest)\nrfc_acc = accuracy_score(ytest,ypred)\nrfc_acc",
      "execution_count": null,
      "outputs": []
    },
    {
      "metadata": {
        "trusted": true,
        "_uuid": "7536cd741b9c6a1da348a0b771d91d5b3429faa3"
      },
      "cell_type": "code",
      "source": "from sklearn.neighbors import KNeighborsClassifier\nknn = KNeighborsClassifier()\nknn.fit(xtrain,ytrain)\nypred = knn.predict(xtest)\nknn_acc = accuracy_score(ytest, ypred)\nknn_acc",
      "execution_count": null,
      "outputs": []
    },
    {
      "metadata": {
        "trusted": true,
        "_uuid": "5ad565ffc71b88e55556de4eefd41b5a3415281f"
      },
      "cell_type": "code",
      "source": "from sklearn.linear_model import SGDClassifier\nsgd = SGDClassifier(random_state = 5)\nsgd.fit(xtrain,ytrain)\nypred = sgd.predict(xtest)\nsgd_acc = accuracy_score(ytest,ypred)\nsgd_acc",
      "execution_count": null,
      "outputs": []
    },
    {
      "metadata": {
        "trusted": true,
        "_uuid": "48f9ccd45802e55419f9c8723dddfc9ec88cefb7"
      },
      "cell_type": "code",
      "source": "from sklearn.ensemble import GradientBoostingClassifier\ngbk = GradientBoostingClassifier()\ngbk.fit(xtrain,ytrain)\nypred = gbk.predict(xtest)\ngbk_acc = accuracy_score(ytest, ypred)\ngbk_acc",
      "execution_count": null,
      "outputs": []
    },
    {
      "metadata": {
        "trusted": true,
        "_uuid": "34763d709a9d7ab63d81ff3907ae275ddd43db6e"
      },
      "cell_type": "code",
      "source": "models = pd.DataFrame({\n    'Model' : ['Support Vector Machines', 'KNN', 'Logistic Regression', \n              'Random Forest', 'Naive Bayes', 'Perceptron', \n              'Decision Tree', 'Stochastic Gradient Descent', 'Gradient Boosting Classifier'],\n    'Accuracy': [svc_acc, knn_acc, logrec_acc, rfc_acc, gaussian_acc, perceptron_acc, dtc_acc, sgd_acc, gbk_acc]\n})\nmodels.sort_values(by='Accuracy', ascending=False)",
      "execution_count": null,
      "outputs": []
    },
    {
      "metadata": {
        "trusted": true,
        "_uuid": "997379f4943244266dc2df5b44a23a5cb6f2c6d6"
      },
      "cell_type": "code",
      "source": "gbk = GradientBoostingClassifier()\ngbk.fit(train_pd.drop('Survived',axis=1), train_pd['Survived'])\nids = test_pd['PassengerId']\npredictions = gbk.predict(test_pd)\noutput = pd.DataFrame({'PassengerId' : ids, 'Survived' : predictions})\noutput.to_csv('submission.csv', index=False)",
      "execution_count": null,
      "outputs": []
    }
  ],
  "metadata": {
    "kernelspec": {
      "display_name": "Python 3",
      "language": "python",
      "name": "python3"
    },
    "language_info": {
      "name": "python",
      "version": "3.6.6",
      "mimetype": "text/x-python",
      "codemirror_mode": {
        "name": "ipython",
        "version": 3
      },
      "pygments_lexer": "ipython3",
      "nbconvert_exporter": "python",
      "file_extension": ".py"
    }
  },
  "nbformat": 4,
  "nbformat_minor": 1
}